{
 "cells": [
  {
   "cell_type": "code",
   "execution_count": 4,
   "id": "e1ba6e93",
   "metadata": {},
   "outputs": [
    {
     "name": "stdout",
     "output_type": "stream",
     "text": [
      "50\n",
      "normal 41.186240000000005\n",
      "50\n",
      "ai 22.93984\n",
      "50\n",
      "normal 39.81788\n",
      "50\n",
      "ai 26.373160000000002\n",
      "50\n",
      "normal 30.057639999999996\n",
      "50\n",
      "ai 22.426440000000003\n"
     ]
    }
   ],
   "source": [
    "import json\n",
    "import numpy as np\n",
    "\n",
    "user_study_data = {}\n",
    "probands = [0, 3, 5]\n",
    "\n",
    "def sum_durations(timings):\n",
    "    return sum(timing[\"duration\"] for timing in timings)\n",
    "\n",
    "for i in probands:\n",
    "    for condition in [\"normal\", \"ai\"]:\n",
    "        # load json file\n",
    "        with open(f\"user_study_results/{condition}_{i}.json\", \"r\") as f:\n",
    "            data = json.load(f)\n",
    "            \n",
    "        times = [sum_durations(entry[\"timings\"]) for entry in data[5:55]]\n",
    "        print(len(times))\n",
    "        print(condition, np.mean(times))\n",
    "        \n",
    "        user_study_data[f\"{condition}_{i}\"] = data"
   ]
  },
  {
   "cell_type": "code",
   "execution_count": 5,
   "id": "fd6b7197",
   "metadata": {},
   "outputs": [
    {
     "data": {
      "image/png": "[encoded data removed]",
      "text/plain": [
       "<Figure size 1200x400 with 3 Axes>"
      ]
     },
     "metadata": {},
     "output_type": "display_data"
    },
    {
     "name": "stdout",
     "output_type": "stream",
     "text": [
      "Shapiro-Wilk Test for Differences: Statistic=0.997, p=0.895\n",
      "Differences are normally distributed, using paired t-test.\n",
      "Paired t-test: t=-4.271, p=0.051\n",
      "No significant difference at α=0.05.\n"
     ]
    }
   ],
   "source": [
    "import matplotlib.pyplot as plt\n",
    "from scipy.stats import shapiro, ttest_rel, wilcoxon\n",
    "\n",
    "# Set professional style for conference paper with Arial font\n",
    "plt.rcParams.update({\n",
    "    'font.family': 'sans-serif',\n",
    "    'font.sans-serif': ['Arial'],\n",
    "    'font.size': 12,\n",
    "    'axes.labelsize': 12,\n",
    "    'axes.titlesize': 14,\n",
    "    'xtick.labelsize': 10,\n",
    "    'ytick.labelsize': 10,\n",
    "    'legend.fontsize': 10,\n",
    "    'figure.titlesize': 16\n",
    "})\n",
    "\n",
    "# Create figure with subplots\n",
    "fig, axes = plt.subplots(1, 3, figsize=(12, 4), sharey=True)\n",
    "\n",
    "probands = [0, 3, 5]\n",
    "\n",
    "for idx, i in enumerate(probands):\n",
    "    ai_times = [sum_durations(entry[\"timings\"]) for entry in user_study_data[f\"ai_{i}\"][5:55]]\n",
    "    normal_times = [sum_durations(entry[\"timings\"]) for entry in user_study_data[f\"normal_{i}\"][5:55]]\n",
    "    \n",
    "    # Boxplot with professional styling\n",
    "    bp = axes[idx].boxplot([ai_times, normal_times], tick_labels=['AI', 'Baseline'], patch_artist=True,\n",
    "                           boxprops=dict(facecolor='lightblue', color='black'),\n",
    "                           medianprops=dict(color='black'),\n",
    "                           whiskerprops=dict(color='black'),\n",
    "                           capprops=dict(color='black'),\n",
    "                           flierprops=dict(marker='o', color='black', markersize=3))\n",
    "    \n",
    "    axes[idx].set_title(f'Participant {i}')  # Assuming participants are numbered 1,2,3\n",
    "    if idx == 0:\n",
    "        axes[idx].set_ylabel('Time per Example (s)')\n",
    "\n",
    "# Overall title\n",
    "# fig.suptitle('Annotation Time per Example by Participant and Condition', fontsize=16, y=1.02)\n",
    "\n",
    "# Common x-label\n",
    "fig.text(0.5, 0.02, 'Condition', ha='center', fontsize=12)\n",
    "\n",
    "plt.tight_layout()\n",
    "plt.show()\n",
    "\n",
    "# Significance test remains the same\n",
    "# Sammle die Mittelwerte pro Proband\n",
    "ai_means = []\n",
    "normal_means = []\n",
    "\n",
    "for i in probands:\n",
    "    ai_times = [sum_durations(entry[\"timings\"]) for entry in user_study_data[f\"ai_{i}\"][5:55]]\n",
    "    normal_times = [sum_durations(entry[\"timings\"]) for entry in user_study_data[f\"normal_{i}\"][5:55]]\n",
    "    ai_means.append(np.mean(ai_times))\n",
    "    normal_means.append(np.mean(normal_times))\n",
    "\n",
    "# Differenzen\n",
    "differences = np.array(ai_means) - np.array(normal_means)\n",
    "\n",
    "# Normalitätsprüfung der Differenzen\n",
    "stat, p_shapiro = shapiro(differences)\n",
    "print(f\"Shapiro-Wilk Test for Differences: Statistic={stat:.3f}, p={p_shapiro:.3f}\")\n",
    "if p_shapiro > 0.05:\n",
    "    print(\"Differences are normally distributed, using paired t-test.\")\n",
    "    t_stat, p_ttest = ttest_rel(ai_means, normal_means)\n",
    "    print(f\"Paired t-test: t={t_stat:.3f}, p={p_ttest:.3f}\")\n",
    "    if p_ttest < 0.05:\n",
    "        print(\"Significant difference at α=0.05.\")\n",
    "    else:\n",
    "        print(\"No significant difference at α=0.05.\")\n",
    "else:\n",
    "    print(\"Differences are not normally distributed, using Wilcoxon signed-rank test.\")\n",
    "    w_stat, p_wilcoxon = wilcoxon(ai_means, normal_means)\n",
    "    print(f\"Wilcoxon test: Statistic={w_stat:.3f}, p={p_wilcoxon:.3f}\")\n",
    "    if p_wilcoxon < 0.05:\n",
    "        print(\"Significant difference at α=0.05.\")\n",
    "    else:\n",
    "        print(\"No significant difference at α=0.05.\")"
   ]
  },
  {
   "cell_type": "code",
   "execution_count": 6,
   "id": "061716e1",
   "metadata": {},
   "outputs": [],
   "source": [
    "ai_mean = np.mean(ai_means)\n",
    "ai_std = np.std(ai_means, ddof=1)  # sample std\n",
    "normal_mean = np.mean(normal_means)\n",
    "normal_std = np.std(normal_means, ddof=1)\n",
    "\n",
    "if p_shapiro > 0.05:\n",
    "    normality_text = f\"A Shapiro-Wilk test confirmed the normality of the differences ($W = {stat:.3f}$, $p = {p_shapiro:.3f}$).\"\n",
    "    test_text = f\"We performed a paired $t$-test, which revealed {'a significant' if p_ttest < 0.05 else 'no significant'} difference in average annotation times per example between AI-assisted ($M = {ai_mean:.2f}$, $SD = {ai_std:.2f}$) and baseline ($M = {normal_mean:.2f}$, $SD = {normal_std:.2f}$) conditions ($t(2) = {t_stat:.3f}$, $p = {p_ttest:.3f}$).\"\n",
    "else:\n",
    "    normality_text = f\"A Shapiro-Wilk test indicated non-normality of the differences ($W = {stat:.3f}$, $p = {p_shapiro:.3f}$).\"\n",
    "    test_text = f\"We performed a Wilcoxon signed-rank test, which revealed {'a significant' if p_wilcoxon < 0.05 else 'no significant'} difference in average annotation times per example between AI-assisted ($M = {ai_mean:.2f}$, $SD = {ai_std:.2f}$) and baseline ($M = {normal_mean:.2f}$, $SD = {normal_std:.2f}$) conditions ($W = {w_stat:.3f}$, $p = {p_wilcoxon:.3f}$).\"\n"
   ]
  },
  {
   "cell_type": "code",
   "execution_count": 7,
   "id": "36d6f30c",
   "metadata": {},
   "outputs": [
    {
     "name": "stdout",
     "output_type": "stream",
     "text": [
      "We performed a paired $t$-test, which revealed no significant difference in average annotation times per example between AI-assisted ($M = 23.91$, $SD = 2.15$) and baseline ($M = 37.02$, $SD = 6.07$) conditions ($t(2) = -4.271$, $p = 0.051$). A Shapiro-Wilk test confirmed the normality of the differences ($W = 0.997$, $p = 0.895$).\n"
     ]
    }
   ],
   "source": [
    "print(test_text, normality_text)"
   ]
  },
  {
   "cell_type": "code",
   "execution_count": null,
   "id": "779e5972",
   "metadata": {},
   "outputs": [],
   "source": []
  }
 ],
 "metadata": {
  "kernelspec": {
   "display_name": "env_nils_hellwig",
   "language": "python",
   "name": "python3"
  },
  "language_info": {
   "codemirror_mode": {
    "name": "ipython",
    "version": 3
   },
   "file_extension": ".py",
   "mimetype": "text/x-python",
   "name": "python",
   "nbconvert_exporter": "python",
   "pygments_lexer": "ipython3",
   "version": "3.11.10"
  }
 },
 "nbformat": 4,
 "nbformat_minor": 5
}
